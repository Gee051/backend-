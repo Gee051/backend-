{
 "cells": [
  {
   "cell_type": "markdown",
   "id": "375a6cff",
   "metadata": {},
   "source": [
    "Create functions to calculate the following statistical measures:\n",
    "\n",
    "Mean  \n",
    "Median   \n",
    "Variance   \n",
    "Standard Deviation  \n",
    "Skewness    "
   ]
  },
  {
   "cell_type": "code",
   "execution_count": 2,
   "id": "f0533767",
   "metadata": {},
   "outputs": [
    {
     "name": "stdout",
     "output_type": "stream",
     "text": [
      "4.8\n"
     ]
    }
   ],
   "source": [
    "#To calculate mean\n",
    "data = [1,2,4,3,3,5,6,8,9,7]\n",
    "sum(data)\n",
    "mean = sum(data)/len(data)\n",
    "print(mean)"
   ]
  },
  {
   "cell_type": "code",
   "execution_count": 8,
   "id": "8f31d329",
   "metadata": {},
   "outputs": [
    {
     "name": "stdout",
     "output_type": "stream",
     "text": [
      "4.5\n"
     ]
    }
   ],
   "source": [
    "# To calculate median\n",
    "data = [1,2,4,3,3,5,6,8,9,7]\n",
    "data.sort()\n",
    "a =len(data)//2\n",
    "if len(data) % 2 == 1: \n",
    "    median = data[len(data)//2]\n",
    "    print(median)\n",
    "else:\n",
    "    median = (data[a - 1] + data[a])/2\n",
    "    print(median)"
   ]
  },
  {
   "cell_type": "code",
   "execution_count": 4,
   "id": "5bcceca9",
   "metadata": {},
   "outputs": [
    {
     "name": "stdout",
     "output_type": "stream",
     "text": [
      "6.36\n"
     ]
    }
   ],
   "source": [
    "# To calculate variance\n",
    "data = [1,2,4,3,3,5,6,8,9,7]\n",
    "b = [(num- mean)**2 for num in data]\n",
    "b1 = sum(b)\n",
    "c = b1/(len(data))\n",
    "print(c)\n"
   ]
  },
  {
   "cell_type": "code",
   "execution_count": 9,
   "id": "bb944e4c",
   "metadata": {},
   "outputs": [
    {
     "name": "stdout",
     "output_type": "stream",
     "text": [
      "3.18\n"
     ]
    }
   ],
   "source": [
    "# To calculate standard deviation\n",
    "import math\n",
    "\n",
    "data = [1,2,4,3,3,5,6,8,9,7]\n",
    "b = [(num- mean)**2 for num in data]\n",
    "b1 = sum(b)\n",
    "c = b1/(len(data))\n",
    "std = c*(1/2)\n",
    "print(std)\n",
    "\n"
   ]
  },
  {
   "cell_type": "code",
   "execution_count": 14,
   "id": "2ee190c9",
   "metadata": {},
   "outputs": [
    {
     "name": "stdout",
     "output_type": "stream",
     "text": [
      "0.10448595522179766\n"
     ]
    }
   ],
   "source": [
    "# To caqlculate skewness\n",
    "# skewness = (((x - mean)^3)/(n-1) x standard deviation^3)\n",
    "\n",
    "data = [1,2,4,3,3,5,6,8,9,7]\n",
    "s = sum([(num - mean)**3 for num in data])\n",
    "s1 = ((len(data)- 1) * std **3)\n",
    "skew = s/s1\n",
    "print(skew)\n",
    "\n",
    "\n",
    "\n"
   ]
  },
  {
   "cell_type": "code",
   "execution_count": null,
   "id": "02930f6c",
   "metadata": {},
   "outputs": [],
   "source": []
  }
 ],
 "metadata": {
  "kernelspec": {
   "display_name": "Python 3 (ipykernel)",
   "language": "python",
   "name": "python3"
  },
  "language_info": {
   "codemirror_mode": {
    "name": "ipython",
    "version": 3
   },
   "file_extension": ".py",
   "mimetype": "text/x-python",
   "name": "python",
   "nbconvert_exporter": "python",
   "pygments_lexer": "ipython3",
   "version": "3.9.12"
  }
 },
 "nbformat": 4,
 "nbformat_minor": 5
}

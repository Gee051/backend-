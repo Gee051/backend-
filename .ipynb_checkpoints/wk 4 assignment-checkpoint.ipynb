{
 "cells": [
  {
   "cell_type": "markdown",
   "id": "c0f8b421",
   "metadata": {},
   "source": [
    "1. Work on the guessing game we did in class and allow the user to keep playing until they decide to stop. To do this, you need to ask the user to select if they want to play again after a number of trials. \n",
    "Also, if the user gets the correct guess at a trial, give the user a score point and an extra trial. However, if the user fails to get the correct guess, reduce the trial."
   ]
  },
  {
   "cell_type": "code",
   "execution_count": 16,
   "id": "0e0b3d48",
   "metadata": {},
   "outputs": [
    {
     "name": "stdout",
     "output_type": "stream",
     "text": [
      "Please enter your name, g\n",
      "Hello g Welcome to my game,GUESS THE NUMBER!!!! \n",
      "Please select from the list below\n",
      "[10, 11, 12, 13, 14, 15, 16, 17, 18, 19, 20, 21, 22, 23, 24, 25, 26, 27, 28, 29, 30]\n",
      "<11\n",
      "computer chose 21\n",
      "Sorry, too low\n",
      "<23\n",
      "computer chose 30\n",
      "Sorry, too low\n",
      "<12\n",
      "computer chose 10\n",
      "Sorry, too high..\n",
      "g your total point is 0 point\n"
     ]
    }
   ],
   "source": [
    "import random\n",
    "\n",
    "Name = input(\"Please enter your name, \")\n",
    "print('Hello', Name, 'Welcome to my game,GUESS THE NUMBER!!!! ')\n",
    "num = list(range(10,31))\n",
    "print(\"Please select from the list below\")\n",
    "\n",
    "print(num)\n",
    "for user_code in range(3): \n",
    "    user_code = int(input('<'))\n",
    "    com_code = random.choice(num)\n",
    "    print(\"computer chose\", com_code)\n",
    "\n",
    "    if user_code in num:\n",
    "        count = 0\n",
    "        if user_code > com_code:\n",
    "            print('Sorry, too high..')\n",
    "\n",
    "        elif user_code < com_code:\n",
    "            print('Sorry, too low')\n",
    "        \n",
    "        else:\n",
    "            print('you win')\n",
    "            count = count + 1\n",
    "            print(\"you have\", count, \"point\")\n",
    "            \n",
    "            for user_code in range(3):\n",
    "                user_code = int(input('<'))\n",
    "                print(\"computer chose\", com_code)\n",
    "                \n",
    "                if user_code > com_code:\n",
    "                    print('Sorry, too high..')\n",
    "\n",
    "                elif user_code < com_code:\n",
    "                    print('Sorry, too low...')\n",
    "                    \n",
    "                else:\n",
    "                    print('you win')\n",
    "                    count += 1\n",
    "                    print(\"you have\", count, \"point\")\n",
    "                   \n",
    "            \n",
    "    else:\n",
    "        print('invalid input, input a number from the list below')\n",
    "        print(num)\n",
    "        \n",
    "print(Name, \"your total point is\", count, \"point\")"
   ]
  },
  {
   "cell_type": "markdown",
   "id": "7af39bb7",
   "metadata": {},
   "source": [
    "### "
   ]
  }
 ],
 "metadata": {
  "kernelspec": {
   "display_name": "Python 3 (ipykernel)",
   "language": "python",
   "name": "python3"
  },
  "language_info": {
   "codemirror_mode": {
    "name": "ipython",
    "version": 3
   },
   "file_extension": ".py",
   "mimetype": "text/x-python",
   "name": "python",
   "nbconvert_exporter": "python",
   "pygments_lexer": "ipython3",
   "version": "3.9.12"
  },
  "vscode": {
   "interpreter": {
    "hash": "b671c20432fcd147198c92e7f072af9e705f087eb990bee22b07f08caab9f630"
   }
  }
 },
 "nbformat": 4,
 "nbformat_minor": 5
}

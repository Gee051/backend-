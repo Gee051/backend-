{
 "cells": [
  {
   "cell_type": "markdown",
   "id": "53959cba",
   "metadata": {},
   "source": [
    "Create functions to calculate the following statistical measures:\n",
    "1. Mean\n",
    "2. Median\n",
    "3. Variance\n",
    "4. Standard Deviation\n",
    "5. Skewness\n"
   ]
  },
  {
   "cell_type": "markdown",
   "id": "94ac1c00",
   "metadata": {},
   "source": [
    "## Solution\n",
    "\n",
    "we can calculate the above question by using the `import statistics`\n",
    "\n",
    "data = [for a given data]\n",
    "\n",
    "a= statistics.mean(data)       \n",
    "        print(a)\n",
    "\n",
    "b = statistics.median(data)   \n",
    "        print(b)\n",
    "\n",
    "c = statistics.stdev(data)   \n",
    "        print(c)  \n",
    "\n",
    "d = statistics.variance(data)   \n",
    "        print(d)  "
   ]
  },
  {
   "cell_type": "code",
   "execution_count": 14,
   "id": "a5f08f1d",
   "metadata": {},
   "outputs": [
    {
     "name": "stdout",
     "output_type": "stream",
     "text": [
      "0.0\n"
     ]
    }
   ],
   "source": [
    "from scipy. stats import skew\n",
    "data = [1,2,3,4,5,6,7]\n",
    "print(skew(data))"
   ]
  },
  {
   "cell_type": "code",
   "execution_count": null,
   "id": "20107334",
   "metadata": {},
   "outputs": [],
   "source": []
  }
 ],
 "metadata": {
  "kernelspec": {
   "display_name": "Python 3 (ipykernel)",
   "language": "python",
   "name": "python3"
  },
  "language_info": {
   "codemirror_mode": {
    "name": "ipython",
    "version": 3
   },
   "file_extension": ".py",
   "mimetype": "text/x-python",
   "name": "python",
   "nbconvert_exporter": "python",
   "pygments_lexer": "ipython3",
   "version": "3.9.12"
  }
 },
 "nbformat": 4,
 "nbformat_minor": 5
}

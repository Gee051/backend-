{
 "cells": [
  {
   "cell_type": "markdown",
   "id": "53959cba",
   "metadata": {},
   "source": [
    "Create functions to calculate the following statistical measures:\n",
    "1. Mean\n",
    "2. Median\n",
    "3. Variance\n",
    "4. Standard Deviation\n",
    "5. Skewness\n"
   ]
  },
  {
   "cell_type": "markdown",
   "id": "94ac1c00",
   "metadata": {},
   "source": [
    "## Solution\n",
    "\n",
    "we can calculate the above question by using the `import statistics`\n",
    "\n",
    "data = [for a given data]\n",
    "\n",
    "a= statistics.mean(data)       \n",
    "        print(a)\n",
    "\n",
    "b = statistics.median(data)   \n",
    "        print(b)\n",
    "\n",
    "c = statistics.stdev(data)   \n",
    "        print(c)  \n",
    "\n",
    "d = statistics.variance(data)   \n",
    "        print(d)  \n",
    "        \n",
    "        \n",
    "for skewness, we import skew from `scipy. stats`    \n",
    "e = skew(data)  \n",
    "    print e"
   ]
  },
  {
   "cell_type": "markdown",
   "id": "2d324767",
   "metadata": {},
   "source": [
    "#### PROGRAMMING ASSIGNMENT\n",
    "Write a program that takes 3 numbers from the user and computes the average \n",
    "\n",
    "Write a program that takes a sentence from the user and changes the first word to upper case. \n",
    "\n",
    "Write a program with the sentence \"I am learning python\". When your program is run, the string \"I\" should be changed to \"you\"  \n",
    "\n",
    "Write a program that takes the string \"I hope you had fun today in class\". Print the number of times that the string \"a\" appears in the sentence.\n",
    "\n",
    "Fermat’s Last Theorem says that there are no positive integers a, b, and c such that a^n + b^n = c^n for any values of n greater than 2.   \n",
    "\n",
    "Write a function named check_fermat that takes four parameters—a, b, c and n—and checks to see if Fermat’s theorem holds. If n is greater than 2 and a^n + b^n = c^n the program should print, “Holy smokes, Fermat was wrong!” Otherwise, the program should print, “No, that doesn’t work.”    \n",
    "\n",
    "Write a function that prompts the user to input values for a, b, c and n, converts them to integers and uses check_fermat to check whether they violate Fermat’s theorem."
   ]
  },
  {
   "cell_type": "code",
   "execution_count": 4,
   "id": "2055e324",
   "metadata": {},
   "outputs": [
    {
     "name": "stdout",
     "output_type": "stream",
     "text": [
      "You am learning python\n"
     ]
    }
   ],
   "source": [
    "a = \"I am learning python\"\n",
    "print(a.replace(\"I\",\"You\"))"
   ]
  },
  {
   "cell_type": "code",
   "execution_count": 2,
   "id": "a67a5afb",
   "metadata": {},
   "outputs": [
    {
     "name": "stdout",
     "output_type": "stream",
     "text": [
      "3\n"
     ]
    }
   ],
   "source": [
    "b = \"I hope you had fun today in class\"\n",
    "print(b.count(\"a\"))"
   ]
  },
  {
   "cell_type": "code",
   "execution_count": 9,
   "id": "245cab93",
   "metadata": {},
   "outputs": [
    {
     "name": "stdout",
     "output_type": "stream",
     "text": [
      "enter value for n3\n",
      "enter value for a2\n",
      "enter value for b3\n",
      "enter value for c4\n",
      "3\n",
      "No, that doesn’t work.\n"
     ]
    }
   ],
   "source": [
    "n = int(input(\"enter value for n\"))\n",
    "a = int(input(\"enter value for a\"))\n",
    "b = int(input(\"enter value for b\"))\n",
    "c = int(input(\"enter value for c\"))\n",
    "print(n)\n",
    "if n>2 and (a**n + b**n == c**n):\n",
    "    print(\"Holy smokes, Fermat was wrong!\")\n",
    "else:\n",
    "    print(\"No, that doesn’t work.\")"
   ]
  },
  {
   "cell_type": "code",
   "execution_count": null,
   "id": "8ad6b906",
   "metadata": {},
   "outputs": [],
   "source": []
  }
 ],
 "metadata": {
  "kernelspec": {
   "display_name": "Python 3 (ipykernel)",
   "language": "python",
   "name": "python3"
  },
  "language_info": {
   "codemirror_mode": {
    "name": "ipython",
    "version": 3
   },
   "file_extension": ".py",
   "mimetype": "text/x-python",
   "name": "python",
   "nbconvert_exporter": "python",
   "pygments_lexer": "ipython3",
   "version": "3.9.12"
  }
 },
 "nbformat": 4,
 "nbformat_minor": 5
}

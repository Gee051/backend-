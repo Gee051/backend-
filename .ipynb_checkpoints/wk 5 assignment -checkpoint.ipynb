{
 "cells": [
  {
   "cell_type": "markdown",
   "id": "202f94a7",
   "metadata": {},
   "source": [
    "1. Given an integer array nums and an integer k, return the k most frequent elements.\n",
    "Example:  \n",
    "\n",
    "[10, 11, 11, 13, 12, 140, 15, 12, 13, 13, 15,, 15, 15, 15, 140, 140, 140, 140]   \n",
    " \n",
    "10 - 1    \n",
    "11 - 2    \n",
    "12 - 3   \n",
    "13 - 4    \n",
    "140 - 5   \n",
    "15 - 6   \n",
    "\n",
    "Top 1 most frequent element: 15     \n",
    "Top 2 most frequent elements: 15, 140     \n",
    "Top 3 most frequent elements: 15, 140, 13    \n",
    "\n",
    "Top k most frequent elements:?   \n",
    "\n",
    "2. In not less than 300 words, explain your solution and check if there is a better way of going about i"
   ]
  },
  {
   "cell_type": "code",
   "execution_count": 2,
   "id": "c9bbf3a7",
   "metadata": {},
   "outputs": [
    {
     "name": "stdout",
     "output_type": "stream",
     "text": [
      "[(15, 6), (140, 5), (13, 3), (12, 2), (11, 2), (10, 1)] \n",
      "\n",
      "top 1 most frequent element: (15, 6)\n",
      "top 2 most frequent element: (140, 5)\n",
      "top 3 most frequent element: (13, 3)\n",
      "top 4 most frequent element: (12, 2)\n",
      "top 5 most frequent element: (11, 2)\n",
      "top 6 most frequent element: (10, 1)\n"
     ]
    }
   ],
   "source": [
    "list = [10, 12, 11, 11, 13, 140, 15, 12, 13, 13, 15, 15, 15, 15, 15, 140, 140, 140, 140]\n",
    "\n",
    "list_count = {}\n",
    "for c in list:\n",
    "    list_count[c] = list_count.get(c,0) + 1\n",
    "\n",
    "sorted_list = sorted(list_count.items(),key = lambda kv:kv[1], reverse=True)\n",
    "a = sorted_list\n",
    "print(a, \"\\n\" )\n",
    "\n",
    "high = 0\n",
    "while True:\n",
    "        for i in a:\n",
    "            high = high + 1\n",
    "            #a1 = reversesorted_list.append(sorted_list.pop(0))\n",
    "            print(\"top\",high, \"most frequent element:\",i)\n",
    "        if high == len(sorted_list):\n",
    "                break"
   ]
  },
  {
   "cell_type": "markdown",
   "id": "2101d48f",
   "metadata": {},
   "source": [
    "#### Explanation\n",
    "From the above question, we are told to give to give an integer array nums and an integer k, return the k most frequent elements.\n",
    "This can be done by first counting the values individually and returning the number of times they appear.. Lets start this journey together\n",
    "Firstly, i created a list of numbers only.. It can be seen in the list above, then i created a variable name called `list_count`(it is an empty distonary), then using the for loop method, i tagged all the values in the list i created below i.e `c in list`. Then using the .get method, i was able to get the number of times each individual value appeared.. Now as you can see i used a dictionary (for list_count) but why? I used a dictionary beacuse .get is a dictionary method and cannot be applied to list or tuples.. Also i wanted to group my work in keys and values.. \n",
    "Note that there are more easier methods to use but i am not fully equipped with advanced processes yet but soon i will.\n",
    "    So now i have gotten how many times each value appear, i want to sort it i.e from the highest to the smallest.. i created a variable name and named it `sorted_list`.I made use of lambda function, i am sure there are other methods but that was the one i could think of.. Now sorted_list equals to my counted values in list_count, sorted using their keys from the highest to the smallest.... normal the function `sorted` sorts values from the smallest to the biggest but `reverse=True` alters that.. i used a for loop in a while loop to combine the `time the value appears` and the number of most frequent element. (for `i` in a) means for every individual value is `a` (remember a is the sorted_list) loop\n",
    "    So i created another variable called `high`.. i used high in the while loop to get the *no of most frequent elements. then using high = high + 1, it increases the number, then it breaks when high is the same as the length of sorted_list.. it prints top (high) most frequent elemnet (i)"
   ]
  },
  {
   "cell_type": "markdown",
   "id": "0ebbe9b2",
   "metadata": {},
   "source": [
    "#### Alternative method\n",
    "As said earlier, there are other easier methods to solve this problem. You can make use of `counter` after importing it from `collections`.. Counter is a faster and better method to use to count.. then can use .append and .pop to make it look like\n",
    "Top 1 most frequent element: 15       \n",
    "Top 2 most frequent elements: 15, 140       \n",
    "Top 3 most frequent elements: 15, 140, 13   when you print"
   ]
  },
  {
   "cell_type": "code",
   "execution_count": null,
   "id": "9694730b",
   "metadata": {},
   "outputs": [],
   "source": []
  }
 ],
 "metadata": {
  "kernelspec": {
   "display_name": "Python 3 (ipykernel)",
   "language": "python",
   "name": "python3"
  },
  "language_info": {
   "codemirror_mode": {
    "name": "ipython",
    "version": 3
   },
   "file_extension": ".py",
   "mimetype": "text/x-python",
   "name": "python",
   "nbconvert_exporter": "python",
   "pygments_lexer": "ipython3",
   "version": "3.9.12"
  }
 },
 "nbformat": 4,
 "nbformat_minor": 5
}
